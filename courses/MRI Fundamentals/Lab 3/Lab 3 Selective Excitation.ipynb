{
 "cells": [
  {
   "cell_type": "markdown",
   "id": "3f82a4d9-36ac-4355-9dec-5fdccf60211c",
   "metadata": {},
   "source": [
    "# **LAB THREE: SELECTIVE EXCITATION**\n",
    "\n",
    "This lab covers selective excitation, RF pulse design using Sinc and SLR, slice profiles, slice offsetting, and the relationships between pulse bandwidth, gradient strength, slice thickness and SNR."
   ]
  },
  {
   "cell_type": "markdown",
   "id": "280675af-d309-45d3-b554-a3dba8c0024d",
   "metadata": {},
   "source": [
    "-------------------------------------------------------------------------------------------------------------------------------------------------------\n",
    " #### **Required Resources**\n",
    " \n",
    " For this lab you will need:\n",
    " - ilumr fitted with 10mm RF Probe\n",
    " - Shim Sample (#001)\n",
    " - Phantom #005 (Three Cell Phantom)\n",
    " - Phantom #006\n",
    " \n",
    " -------------------------------------------------------------------------------------------------------------------------------------------------------"
   ]
  },
  {
   "cell_type": "markdown",
   "id": "5c032817-f3ee-471a-ac42-fa95b2bf896a",
   "metadata": {},
   "source": [
    ">-------------------------------------------------------------------------------------------------------------------------------------------------------\n",
    "> #### **Setup Task: Run the Notebook**\n",
    "> \n",
    "> 1. Edit the cell below to set the `LAB_USER_NAME` variable to your name\n",
    "> 2. Click **Run->Run All Cells** in the in top menu bar of jupyterlab\n",
    "> 3. Open the Table of Contents side-bar on the left edge of jupyterlab to aid in navigation\n",
    "> \n",
    "> -------------------------------------------------------------------------------------------------------------------------------------------------------"
   ]
  },
  {
   "cell_type": "code",
   "execution_count": null,
   "id": "16f05f60-40d9-4bec-8261-c48c94802a07",
   "metadata": {
    "tags": []
   },
   "outputs": [],
   "source": [
    "LAB_USER_NAME = 'REPLACE_ME'"
   ]
  },
  {
   "cell_type": "markdown",
   "id": "70b86f3b-239d-4b41-9233-498dbbc9f362",
   "metadata": {},
   "source": [
    "**Important**: To initialise this notebook, edit the cell above to set `LAB_USER_NAME` to your name, then click **Run->Run All Cells** in the top menu bar."
   ]
  },
  {
   "cell_type": "code",
   "execution_count": null,
   "id": "179ea1b4-60c9-4514-8c4c-e78271824085",
   "metadata": {
    "jupyter": {
     "source_hidden": true
    },
    "tags": []
   },
   "outputs": [],
   "source": [
    "import panel as pn\n",
    "import sys\n",
    "import os\n",
    "import yaml\n",
    "import numpy as np\n",
    "\n",
    "from matipo import Sequence, SEQUENCE_DIR, GLOBALS_DIR, DATA_DIR, Unit\n",
    "from matipo.util.decimation import decimate\n",
    "from matipo.util.fft import fft_reconstruction\n",
    "from matipo.util.etl import deinterlace\n",
    "\n",
    "from matipo.experiment.base_experiment import BaseExperiment, auto_inputs, PlotInterface\n",
    "from matipo.experiment.models import PLOT_COLORS, SITickFormatter, SIHoverFormatter\n",
    "\n",
    "from matipo.experiment.plots import SignalPlot, SpectrumPlot, ImagePlot, Image1DPlot, ComplexDataLinePlot\n",
    "\n",
    "pn.extension(inline=True)\n",
    "\n",
    "WORKSPACE = os.path.join(LAB_USER_NAME, 'Lab 3')\n",
    "LAB_DIR = os.path.join(DATA_DIR, WORKSPACE)\n",
    "os.makedirs(LAB_DIR, exist_ok=True)\n",
    "print('Data will be saved to', LAB_DIR)\n",
    "\n",
    "GAMMA_BAR = 42.58e6\n",
    "RESOLUTION = 64\n",
    "FOV = 12e-3 # m\n",
    "AXIS_VECTORS = {\n",
    "    'X': np.array([1,0,0], dtype=float),\n",
    "    'Y': np.array([0,1,0], dtype=float),\n",
    "    'Z': np.array([0,0,1], dtype=float)\n",
    "}\n",
    "\n",
    "try:\n",
    "    with open(GLOBALS_DIR+'hardpulse_90.yaml', 'r') as f:\n",
    "        data = yaml.load(f, Loader=yaml.SafeLoader)\n",
    "        AREA_90 = data['a_90']*data['t_90']\n",
    "except IOError:\n",
    "    print('Unable to load pulse calibration, using default value')\n",
    "    AREA_90 = 0.3*32e-6\n",
    "    \n",
    "def estimate_a_90(pulse_shape, pulse_width):\n",
    "    shape_area = np.mean(pulse_shape)*pulse_width\n",
    "    return min(1, abs(AREA_90/shape_area))"
   ]
  },
  {
   "cell_type": "markdown",
   "id": "246017a5-e44f-4b07-a54c-fc014bbf2633",
   "metadata": {
    "tags": []
   },
   "source": [
    "## 1. Projection Images\n",
    "Thus far, the 2D images created in the labs have been projection images. These images are created using a rectangular RF-pulse (known as a hard pulse) and both frequency and phase encoding gradients (Fig.1.1). The frequency and phase encoding gradients allow the aquired signals to be sorted into 2D space to produce an image. The orientation of the image will depend on which axes the frequency and phase gradients were applied along. Since there is no form of encoding in the third dimension of the sample, the signals along this axis will be summed in the 2D image.   "
   ]
  },
  {
   "cell_type": "markdown",
   "id": "790655fe-a691-4bb0-bedc-725ad47965da",
   "metadata": {},
   "source": [
    "<center><img src=\"Images/projection.png\" width=\"1300\"></center>\n",
    "<center><figcaption style=\"width: 600px;\">Figure 1.1: Setting the frequency and phase encoding in the x and y axes produces a projection image where the varying signal components in the z direction are summed into average values.  </figcaption></center>\n"
   ]
  },
  {
   "cell_type": "markdown",
   "id": "2be5d670-ed57-4a18-81cd-83bb152dd38c",
   "metadata": {},
   "source": [
    "> -------------------------------------------------------------------------------------------------------------------------------------------------------\n",
    "> #### **Task 1.1: Generating a Projection Image**\n",
    "> 1. Insert **Phantom #005** at the correct depth.\n",
    "> 2. Choose XY for the phase encoding and frequency encoding axes and start the experiment by pressing \"Run\". (If the image is offset, run the Find Frequency dashboard)\n",
    "> 3. **Question:** Can you tell the vertical position of the cells?\n",
    "> 4. Try changing one of the encoding axes to Z to get a side profile. If the sample is off-centre, use this image to adjust it.\n",
    "> 5. Insert **Phantom #006** and repeat the XY and ZY images.\n",
    "> 6. **Question:** Is the text embedded in the phantom visible/readable?\n",
    "> -------------------------------------------------------------------------------------------------------------------------------------------------------"
   ]
  },
  {
   "cell_type": "code",
   "execution_count": null,
   "id": "28d08dde-ec4d-4ee4-ace8-1748ed8256e4",
   "metadata": {
    "jupyter": {
     "source_hidden": true
    },
    "tags": []
   },
   "outputs": [],
   "source": [
    "from base_2DRARE_experiment import Base2DRAREExperiment\n",
    "\n",
    "# Experiment 1: 2D RARE projection image experiment with selectable phase and frequency encoding axis\n",
    "\n",
    "class Projection2DRAREExperiment(Base2DRAREExperiment):\n",
    "    def setup(self):\n",
    "        super().setup() # call parent class setup method\n",
    "        \n",
    "        self.title = \"2D Projection Experiment\"\n",
    "        \n",
    "        self.inputs = {\n",
    "            'axis_f': pn.widgets.RadioButtonGroup(name='Freq Enc Axis', options=['X', 'Y', 'Z'], value='X', width = 200),\n",
    "            'axis_p': pn.widgets.RadioButtonGroup(name='Phase Enc Axis', options=['X', 'Y', 'Z'], value='Y', width = 200)\n",
    "        }\n",
    "        \n",
    "        self.FOV = FOV\n",
    "\n",
    "    def layout_inputs(self):\n",
    "        return pn.Column(\n",
    "            pn.Row(pn.pane.Markdown('### Frequency Encoding Axis', width=200), self.inputs['axis_f']),\n",
    "            pn.Row(pn.pane.Markdown('### Phase Encoding Axis', width=200), self.inputs['axis_p']),\n",
    "            sizing_mode='stretch_width'\n",
    "        )\n",
    "\n",
    "    def update_par(self):\n",
    "        self.seq.setpar(\n",
    "            n_scans=16,\n",
    "            t_end=1,\n",
    "            t_dw=20e-6/self.DEC,\n",
    "            n_samples=RESOLUTION*self.DEC,\n",
    "            n_phase_2=RESOLUTION,\n",
    "            # set gradient directions\n",
    "            g_read=AXIS_VECTORS[self.inputs['axis_f'].value],\n",
    "            g_phase_2=AXIS_VECTORS[self.inputs['axis_p'].value]\n",
    "        )\n",
    "        super().update_par() # automatically determines gradient magnitudes based on the self.FOV attribute\n",
    "\n",
    "exp1 = Projection2DRAREExperiment(state_id='exp1')\n",
    "exp1()"
   ]
  },
  {
   "cell_type": "markdown",
   "id": "43b14075-73ec-4d2b-b3e0-2a3e53377f03",
   "metadata": {
    "tags": []
   },
   "source": [
    "As you can see, projection images aren't always useful because summing a large amount of signal in the object's third dimension makes it almost impossible to see details that are only present in specific parts of the sample. If we want to see detail in a specific portion of the object we need to be able to limit the amount of signal that is being summed in one direction. This is done through slice selection."
   ]
  },
  {
   "cell_type": "markdown",
   "id": "bdf9621f-3972-45d6-be46-ddb3f6b0ca03",
   "metadata": {
    "tags": []
   },
   "source": [
    "## 2. Frequency Selective Excitation"
   ]
  },
  {
   "cell_type": "markdown",
   "id": "933d1395-476f-4ec4-a9d8-062f23b00aab",
   "metadata": {},
   "source": [
    "In order to image a single slice rather than the entire sample, two main changes need to be made to the pulse sequence:\n",
    "\n",
    "1) A slice-select gradient must be added along the axis perpendicular to the plane of the desired slice. This causes the spins along the chosen axis to precess at different frequencies making it possible to selectively excite them by transmitting at a specific frequency.\n",
    "\n",
    "2) The RF excitation pulse must be modified to only transmit a small range of frequencies. So far, we have used short (~20 us) high amplitude pulses which excite a very broad range of frequencies (called a \"hard pulse\"). As the pulse width is increased, the range of frequencies contained in it (the bandwidth) decreases, so we need to increase the pulse length to achieve a narrow slice. Flip angle is proportional to the area of the pulse, so a long, narrow-bandwidth pulse needs less amplitude to achieve the same flip angle. This is called a \"soft pulse\".\n",
    "\n",
    "The resulting pulse sequence is shown in Figure 2.1 below. "
   ]
  },
  {
   "cell_type": "markdown",
   "id": "70e033c8-30e6-421d-9ab4-7ef76e17aca0",
   "metadata": {},
   "source": [
    "<center><img src=\"Images/slice.png\" width=\"1000\"></center>\n",
    "<center><figcaption style=\"width: 600px;\">Figure 2.1: Slicing along the z axis allows the sample to be imaged at a specific cross section index     </figcaption></center>\n"
   ]
  },
  {
   "cell_type": "markdown",
   "id": "edd0a972-79ce-417a-9298-9fa4885918d8",
   "metadata": {},
   "source": [
    "The relationship of the slice thickness ($\\Delta$z) to bandwidth ($\\Delta$F) and slice-select gradient strength ($G_{ss}$) is governed by the following equation:\n",
    "\n",
    "$$\\Delta z = \\frac{\\Delta F}{\\bar\\gamma \\cdot G_{ss}} \\tag{1}$$\n",
    "\n",
    "where $\\bar\\gamma$ is the gyromagnetic ratio (for hydrogen nucleus $\\bar\\gamma = 42.58 \\times 10^{6} \\ \\mathrm{Hz}/\\mathrm{T}$). Figure 2.2 shows examples of how slice thickness can be controlled by varying $\\Delta F$ or $G_{ss}$."
   ]
  },
  {
   "cell_type": "markdown",
   "id": "6693a9d3-5d08-4401-a291-5912c40d0322",
   "metadata": {},
   "source": [
    "<center><img src=\"Images/slice_thickness.png\" width=\"800\"></center>\n",
    "<center><figcaption style=\"width: 800px;\">Figure 2.2: How the slice thickness is related to the RF pulse bandwidth and slice-select gradient strength </figcaption></center>"
   ]
  },
  {
   "cell_type": "markdown",
   "id": "40afb476-5789-499f-a61c-91bc6aef7740",
   "metadata": {},
   "source": [
    "In the next experiment, we will use a simplified pulse sequence (Fig.2.3 below) that performs a spin echo with a constant gradient present during both the RF excitation pulse and the readout. This allows the sample to be selectively excited and then imaged along the same axis to directly measure the excitation profile."
   ]
  },
  {
   "cell_type": "markdown",
   "id": "fa048c0c-654c-4178-96a6-92d4698c81ef",
   "metadata": {},
   "source": [
    "<center><img src=\"Images/const_grad.png\" width=600\"></center>\n",
    "<center><figcaption style=\"width: 600px;\">Figure 2.3: Pulse Sequence for the Constant Gradient Spin Echo experiment</figcaption></center>"
   ]
  },
  {
   "cell_type": "markdown",
   "id": "4022a3f0-5527-420a-98df-dc7258ad2935",
   "metadata": {},
   "source": [
    "> -------------------------------------------------------------------------------------------------------------------------------------------------------\n",
    "> #### **Task 2.1:**\n",
    "> 1. Insert the **Shim Sample (#001)** and run the below experiment with a pulse width of 20 us. You will get a 1D Z axis projection image of the sample.\n",
    "> 2. Increase the pulse width and rerun the experiment. Try with various pulse widths up to 1000 us.\n",
    "> 3. Note: With a short RF pulse, there should be roughly equal signal from all parts of the sample along the Z axis.\n",
    "> 4. **Question:** With a long RF pulse, do you still get equal signal from the whole sample? If not, which region dominates?\n",
    "> 5. **Question:** How does the Z thickness of the dominant region (slice thickness) vary with the pulse width?\n",
    "> -------------------------------------------------------------------------------------------------------------------------------------------------------"
   ]
  },
  {
   "cell_type": "code",
   "execution_count": null,
   "id": "c85751c4-d2a6-4c94-ba57-f7168467bd31",
   "metadata": {
    "jupyter": {
     "source_hidden": true
    },
    "tags": []
   },
   "outputs": [],
   "source": [
    "# Experiment 2\n",
    "class Lab3Task2SpinEchoExperiment(BaseExperiment):\n",
    "    \n",
    "    def setup(self):\n",
    "        self.title = \"Constant Gradient Spin Echo Experiment\"\n",
    "        self.workspace = WORKSPACE\n",
    "        self.seq = Sequence('programs/SE_const_grad.py')\n",
    "        self.plots = {\n",
    "            'signal': SignalPlot(),\n",
    "            'image': Image1DPlot()\n",
    "        }\n",
    "        \n",
    "        with open(os.path.join(GLOBALS_DIR, 'gradient_calibration.yaml'), 'r') as f:\n",
    "            data = yaml.load(f, Loader=yaml.SafeLoader)\n",
    "            self.G_CAL = 1/(GAMMA_BAR*data['gradient_calibration']) # convert\n",
    "            self.log.debug(f'G_CAL: {self.G_CAL}')\n",
    "        \n",
    "        self.inputs['pulse_width'] = pn.widgets.FloatInput(name=\"Pulse Width (μs)\", start=20, end=1000, step=20, value=20, width=80)\n",
    "        self.DEC = 4\n",
    "    \n",
    "    def update_par(self):\n",
    "        self.seq.setpar(\n",
    "            a_90=0.5*AREA_90/(self.inputs['pulse_width'].value*1e-6),\n",
    "            t_90=self.inputs['pulse_width'].value*1e-6,\n",
    "            g_read=(0,0,0.05/self.G_CAL),\n",
    "            n_scans=4,\n",
    "            n_samples=200*self.DEC,\n",
    "            t_dw=40e-6/self.DEC, # using a long dwell time for narrow bandwith to more easily see the spectrum shape\n",
    "            t_end=0.5,\n",
    "            t_echo = 10e-3\n",
    "        )\n",
    "    \n",
    "    async def update_plots(self, *args, **kwargs):\n",
    "        await self.seq.fetch_data()\n",
    "        self.plots['signal'].update(seqdata=self.seq.data, t_dw=self.seq.par.t_dw)\n",
    "        self.plots['image'].update(\n",
    "            seqdata=self.seq.data,\n",
    "            t_dw=self.seq.par.t_dw,\n",
    "            g_read_mag=self.G_CAL*np.linalg.norm(self.seq.par.g_read),\n",
    "            dec=self.DEC\n",
    "        )\n",
    "\n",
    "lab3exp2 = Lab3Task2SpinEchoExperiment(state_id='exp2')\n",
    "lab3exp2()"
   ]
  },
  {
   "cell_type": "markdown",
   "id": "2b3fdce8-e2c9-409f-b9d3-3d06c691416f",
   "metadata": {},
   "source": [
    "> -------------------------------------------------------------------------------------------------------------------------------------------------------\n",
    "> #### **Task 2.2: 2D RARE Using Rectangular Soft Pulse**\n",
    "> 1. Insert **Phantom #005**, and run the experiment with the pulse width set to 20 us and the axes set to X-Y to get a projection image.\n",
    "> 2. Try increasing the pulse width to selectively excite only the middle cell. You can also switch one of the axes to Z to visualise the excitation profile as in the previous experiment.\n",
    "> 3. **Question**: Approximately how long does the RF pulse need to be to only get noticable signal from one cell?\n",
    "> 4. **Question**: What is the thickness of this slice? (You can check with the Constant Gradient Spin Echo experiment above)\n",
    "> 5. **Question**: If you continue increasing the pulse width, how is the SNR of the image related to the slice thickness?\n",
    "> -------------------------------------------------------------------------------------------------------------------------------------------------------"
   ]
  },
  {
   "cell_type": "code",
   "execution_count": null,
   "id": "5d023a14-6271-4be3-b25c-65491b481c5c",
   "metadata": {
    "jupyter": {
     "source_hidden": true
    },
    "tags": []
   },
   "outputs": [],
   "source": [
    "class Task3RARE2DExperiment(Base2DRAREExperiment):\n",
    "    def setup(self):\n",
    "        super().setup() # call parent class setup method\n",
    "        \n",
    "        self.seq = Sequence('programs/custom_pulse_RARE.py')\n",
    "        \n",
    "        self.title = \"2D Image with Rectangular RF Pulse and Slice Select Gradient\"\n",
    "        \n",
    "        self.inputs = {\n",
    "            'axis_f': pn.widgets.RadioButtonGroup(name='Freq Enc Axis', options=['X', 'Y', 'Z'], value='X', width = 200),\n",
    "            'axis_p': pn.widgets.RadioButtonGroup(name='Phase Enc Axis', options=['X', 'Y', 'Z'], value='Y', width = 200),\n",
    "            'pulse_width': pn.widgets.FloatInput(name=\"Pulse Width (μs)\", start=20, end=1000, step=20, value=20, width=80)\n",
    "        }\n",
    "\n",
    "    def layout_inputs(self):\n",
    "        return pn.Column(\n",
    "            self.inputs['pulse_width'],\n",
    "            pn.Row(pn.pane.Markdown('### Frequency Encoding Axis', width=200), self.inputs['axis_f']),\n",
    "            pn.Row(pn.pane.Markdown('### Phase Encoding Axis', width=200), self.inputs['axis_p']),\n",
    "            sizing_mode='stretch_width'\n",
    "        )\n",
    "    \n",
    "    def g_phase_mag(self, fov, gamma_bar=GAMMA_BAR):\n",
    "        \"\"\" Returns phase gradient required for a given FOV \"\"\"\n",
    "        dt = self.seq.par.t_phase/(len(self.seq.par.g_phase_2)//2)\n",
    "        return max(0, min(1, 1/(self.G_CAL*fov*gamma_bar*dt))) # clip to range 0 to 1\n",
    "    \n",
    "    def fov_phase(self, gamma_bar=GAMMA_BAR):\n",
    "        \"\"\" Returns phase encode direction FOV \"\"\"\n",
    "        dt = self.seq.par.t_phase/(len(self.seq.par.g_phase_2)//2)\n",
    "        g = self.G_CAL*np.max(np.linalg.norm(self.seq.par.g_phase_2, axis=1))\n",
    "        return 1/(g*gamma_bar*dt)\n",
    "\n",
    "    def update_par(self):\n",
    "        self.seq.setpar(\n",
    "            a_90=1.0*AREA_90/(self.inputs['pulse_width'].value*1e-6),\n",
    "            t_90=self.inputs['pulse_width'].value*1e-6,\n",
    "            shape_90=[1],\n",
    "            g_slice=(0,0,50e-3/self.G_CAL),\n",
    "            g_phase_2=np.zeros((RESOLUTION, 3)),\n",
    "            n_scans=16,\n",
    "            n_samples=RESOLUTION*self.DEC,\n",
    "            t_dw=20e-6/self.DEC,\n",
    "            t_end=1,\n",
    "            # t_grad_ramp=50e-6, # TODO: fix strange artifacts with larger t_grad_ramp\n",
    "            # n_grad_ramp=5\n",
    "        )\n",
    "        \n",
    "        # set calculated pars\n",
    "        self.seq.setpar(\n",
    "            n_ETL=len(self.seq.par.g_phase_2),\n",
    "            t_read=self.seq.par.t_dw*self.seq.par.n_samples\n",
    "        )\n",
    "        self.seq.setpar(\n",
    "            t_phase=self.seq.par.t_read/2\n",
    "        )\n",
    "        \n",
    "        g_phase_prop = np.flip(np.linspace(1, -1, RESOLUTION, endpoint=False))\n",
    "        self.seq.setpar(\n",
    "            g_read = self.g_read_mag(self.FOV)*AXIS_VECTORS[self.inputs['axis_f'].value],\n",
    "            g_phase_2 = np.outer(self.g_phase_mag(self.FOV)*g_phase_prop, AXIS_VECTORS[self.inputs['axis_p'].value])\n",
    "        )\n",
    "        \n",
    "\n",
    "lab3exp3 = Task3RARE2DExperiment(state_id='exp3')\n",
    "lab3exp3()"
   ]
  },
  {
   "cell_type": "markdown",
   "id": "5592d3e6-82fc-4dfa-9775-953808316c33",
   "metadata": {
    "tags": []
   },
   "source": [
    "## 3. Soft Pulse Design\n",
    "\n",
    "In practice, a slice will have some finite thickness. Choosing a slice thickness is a trade off between two main factors: A thicker slice will have more signal because there are more nuclear spins available for excitation; a thinner slice will have less averaging over the slice axis resulting in better selection of individual features in the sample. In the previous experiments, a rectangular RF pulse with a constant amplitude was used. This resulted in a Sinc function shaped excitation profile (or slice profile). The side-lobes of the slice profile partially excite the top and bottom cells causing them to show faintly in the image. \n",
    "\n",
    "For small tip angles ($\\alpha \\ll 90^\\circ$), the small-tip-angle approximation states that the signal spectrum will be approximately proportional to the spectrum of the RF pulse, and therefore will have the same shape. If the tip angle at any point in the sample approaches or exceeds $90^\\circ$ this approximation breaks down and the signal spectrum will be distorted, compared to the RF pulse spectrum, due to the sine relationship between signal and tip angle (Fig. 3.1)."
   ]
  },
  {
   "cell_type": "markdown",
   "id": "eb0800ea-a2d8-4553-abbf-8a039fa96e8e",
   "metadata": {},
   "source": [
    "<center><img src=\"Images/tip_angle.png\" width=\"900\"></center>\n",
    "<center><figcaption style=\"width: 500px;\">Figure 3.1: How the RF pulse shape relates to the NMR signal</figcaption></center>"
   ]
  },
  {
   "cell_type": "markdown",
   "id": "28716c53-3360-4895-8460-c2c3d480d3e5",
   "metadata": {},
   "source": [
    "To perfectly isolate the middle cell, it should be fully excited (90 degree tip angle throughout) while the outer cells are not excited at all (0 degree tip angle). This requires the frequency spectrum of the RF pulse to have a rectangular shape, which can be theoretically achieved with a Sinc shaped RF pulse amplitude modulation as shown in Figure 3.2:"
   ]
  },
  {
   "cell_type": "markdown",
   "id": "0a277fe1-b55b-43ab-81fd-bf21a478f14e",
   "metadata": {},
   "source": [
    "<center><img src=\"Images/soft_pulse_parameters.png\" width=\"600\"></center>\n",
    "<center><figcaption style=\"width: 600px;\">Figure 3.2: An ideal RF pulse creates a rectangular slice select profile</figcaption></center>"
   ]
  },
  {
   "cell_type": "markdown",
   "id": "cdcb09b5-dbc3-4d2c-80d4-69d3382f6f2d",
   "metadata": {},
   "source": [
    "In practice, the theoretical Sinc function is infinitely long, and must be truncated to be used. This may be done at the zero crossings to minimise ringing artifacts (Gibbs phenomenon). Additionally, the Sinc shape can be multiplied with a gaussian to further reduce the Gibbs phenomenon. This process is called Apodization."
   ]
  },
  {
   "cell_type": "markdown",
   "id": "2cf7beb7-99b2-4824-ba6a-399cf6334307",
   "metadata": {},
   "source": [
    "> -------------------------------------------------------------------------------------------------------------------------------------------------------\n",
    "> #### **Task 3.1: Visualising Sinc Pulse Design**\n",
    ">The experiment below is designed to help you visualise how changing the parameters of a soft pulse changes the profile in the frequency domain. The RF pulse you design will be used for the following experiments.\n",
    "> 1. Experiment with the three soft pulse parameters and observe how the shape of the RF-pulse and slice profile changes. \n",
    "> 2. **Question:** How does changing the lobe width affect the spectral bandwidth?\n",
    "> 3. **Question:** How does adding more lobes improve the shape of the slice profile? What is the trade-off regarding the overall pulse width?\n",
    "> 4. **Question:** What happens when apodization is too large? Pick a value that looks like a good compromise.\n",
    "> -------------------------------------------------------------------------------------------------------------------------------------------------------"
   ]
  },
  {
   "cell_type": "code",
   "execution_count": null,
   "id": "eb649d61-caaa-48bd-8416-1c0bce297e40",
   "metadata": {
    "jupyter": {
     "source_hidden": true
    },
    "tags": []
   },
   "outputs": [],
   "source": [
    "from custom_RF import CustomRF\n",
    "\n",
    "class SincRF(CustomRF):\n",
    "    \n",
    "    def setup(self):\n",
    "        super().setup()\n",
    "        self.title = \"Sinc RF Pulse Design\"\n",
    "        self.workspace = WORKSPACE\n",
    "        \n",
    "        self.inputs = {\n",
    "            'lobe_width': pn.widgets.FloatInput(name=\"Lobe Width (μs)\", start=50, end=400, step=50, value=100, width=80),\n",
    "            'n_lobe': pn.widgets.FloatInput(name=\"Lobes\", start=0, end=10, step=1, value=3, width=80),\n",
    "            'apodization': pn.widgets.FloatInput(name=\"Apodization\", start=0, end=100, step=1, value=0, width=80)\n",
    "        }\n",
    "        \n",
    "        # auto frequency range based on max bandwidth\n",
    "        BW_max = 1e-6*self.inputs['lobe_width'].start\n",
    "        self.plots['spectrum'].fig.x_range.start = -4/BW_max\n",
    "        self.plots['spectrum'].fig.x_range.end = 4/BW_max\n",
    "        \n",
    "        # update plots when any value is changed\n",
    "        self.inputs['lobe_width'].param.watch(self.pulse_settings_handler, 'value_throttled')\n",
    "        self.inputs['n_lobe'].param.watch(self.pulse_settings_handler, 'value_throttled')\n",
    "        self.inputs['apodization'].param.watch(self.pulse_settings_handler, 'value_throttled')\n",
    "\n",
    "        # manually trigger for first update\n",
    "        self.inputs['lobe_width'].param.trigger('value_throttled')\n",
    "    \n",
    "    \n",
    "    def calc_pulse_shape(self):\n",
    "        width = max(1, self.inputs['n_lobe'].value)*self.inputs['lobe_width'].value*1e-6 # max(1, ...) to prevent width=0 when n_lobes=0\n",
    "        N = int(width / 1e-6)\n",
    "        if N > 1000:\n",
    "            N = 1000\n",
    "        dt = width / N\n",
    "        pts = np.sinc(np.linspace(-self.inputs['n_lobe'].value, self.inputs['n_lobe'].value,N))\n",
    "        pts*=np.exp(-self.inputs['apodization'].value*(np.linspace(-1, 1, N)**2))\n",
    "        return width, pts\n",
    "        \n",
    "\n",
    "lab3exp4 = SincRF(state_id='exp4')\n",
    "lab3exp4()"
   ]
  },
  {
   "cell_type": "markdown",
   "id": "8095236a-56a2-4591-a4c6-435a75e414e6",
   "metadata": {
    "tags": []
   },
   "source": [
    "> -------------------------------------------------------------------------------------------------------------------------------------------------------\n",
    "> #### **Task 3.2: 1D Slice Profile**\n",
    "> With the Sinc pulse designed, we can now use it to create a 1D image of the slice profile.\n",
    "> You will need Equation 1: $$\\Delta z = \\frac{\\Delta F}{\\bar\\gamma \\cdot G_{ss}}$$ where $\\bar\\gamma = 42.58 \\times 10^{6} \\ \\mathrm{Hz}/\\mathrm{T}$ for the hydrogen nucleus.\n",
    "> 1. **Question:** Based on the bandwidth ($\\Delta$F) of the Sinc pulse you have designed and a slice select gradient $G_{ss}=100 \\ \\mathrm{mT}/\\mathrm{m}$, calculate the expected thickness of the slice profile.\n",
    "> 2. Insert the **Shim Sample (#001)** (make sure to centre the sample using the depth gauge), set the slice select gradient, and run the experiment.\n",
    "> 3. **Question:** How does the width of the slice profile compare to your predicted width?\n",
    "> 4. Try changing the flip angle to 30 and 180 and compare the resulting spectrum.\n",
    "> 5. **Question:** At what flip angle (out of 30, 90, or 180) does the signal spectrum look most similar to the RF pulse spectrum shown above?\n",
    "> -------------------------------------------------------------------------------------------------------------------------------------------------------"
   ]
  },
  {
   "cell_type": "code",
   "execution_count": null,
   "id": "644143e7-b963-41cc-95e8-9805c6535993",
   "metadata": {
    "jupyter": {
     "source_hidden": true
    },
    "tags": []
   },
   "outputs": [],
   "source": [
    "class Lab3Task5SpinEchoExperiment(BaseExperiment):\n",
    "    \n",
    "    def setup(self):\n",
    "        self.title = \"Sinc RF Pulse Slice Profile Measurement\"\n",
    "        self.workspace = WORKSPACE\n",
    "        self.seq = Sequence('programs/custom_pulse_SE.py')\n",
    "        self.plots = {\n",
    "            'signal': SignalPlot(),\n",
    "            'image': Image1DPlot()\n",
    "        }\n",
    "        \n",
    "        with open(os.path.join(GLOBALS_DIR, 'gradient_calibration.yaml'), 'r') as f:\n",
    "            data = yaml.load(f, Loader=yaml.SafeLoader)\n",
    "            self.G_CAL = 1/(GAMMA_BAR*data['gradient_calibration']) # convert\n",
    "            self.log.debug(f'G_CAL: {self.G_CAL}')\n",
    "        \n",
    "        self.inputs={\n",
    "            'GSS':pn.widgets.FloatInput(name=\"Slice Select Gradient (mT/m)\", start=0, end=150, step=10, value=100, width=200, disabled=False),\n",
    "            'flip_angle':pn.widgets.FloatInput(name=\"Target Flip Angle (degrees)\", start=10, end=360, step=10, value=90, width=200, disabled=False)\n",
    "        }\n",
    "        self.DEC = 4\n",
    "        self.G_IMAGE = 0.1 # T/m\n",
    "    \n",
    "    def update_par(self):\n",
    "        self.seq.setpar(\n",
    "            a_90=self.inputs['flip_angle'].value/90*estimate_a_90(lab3exp4.pulse_shape,lab3exp4.pulse_width),\n",
    "            t_90=lab3exp4.pulse_width,\n",
    "            shape_90=lab3exp4.pulse_shape,\n",
    "            g_slice=(0,0,-1e-3*self.inputs['GSS'].value/self.G_CAL),\n",
    "            g_read=(0,0,self.G_IMAGE/self.G_CAL),\n",
    "            n_scans=4,\n",
    "            n_samples=200*self.DEC,\n",
    "            t_dw=20e-6/self.DEC, # using a long dwell time for narrow bandwith to more easily see the spectrum shape\n",
    "            t_end=0.5\n",
    "        )\n",
    "    \n",
    "    async def update_plots(self, *args, **kwargs):\n",
    "        await self.seq.fetch_data()\n",
    "        self.plots['signal'].update(seqdata=self.seq.data, t_dw=self.seq.par.t_dw)\n",
    "        self.plots['image'].update(\n",
    "            seqdata=self.seq.data,\n",
    "            t_dw=self.seq.par.t_dw,\n",
    "            g_read_mag=self.G_CAL*np.linalg.norm(self.seq.par.g_read),\n",
    "            dec=self.DEC\n",
    "        )\n",
    "            \n",
    "\n",
    "lab3exp5 = Lab3Task5SpinEchoExperiment(state_id='exp5')\n",
    "lab3exp5()"
   ]
  },
  {
   "cell_type": "markdown",
   "id": "a7f798b2-9661-446f-8e4e-4a7eeeda1969",
   "metadata": {
    "tags": []
   },
   "source": [
    "### Note: Phase Rewinding Gradients\n",
    "\n",
    "There may be some twisting in the imaginary components of the spectrum in the previous experiment. This is due to dephasing. The application of the slice-select gradient during the soft pulse causes the spins to accumulate different amounts of phase based on their position along the the gradient's axis. This phase dispersion of the transverse magnetization will result in a loss of signal when averaged together. Since the dephasing that occurs is linear, the phase effects can be cancelled by applying a gradient in the opposite direction. This is done using a rephasing gradient. In general, the area of the rephasing gradient is half that of the slice-select gradient. This is done under the assumption that the majority of the spins are tipped into the transverse plane at the centre of the 90-degree pulse and, therefore, phase dispersion primarily occurs during the second half of the slice select gradient. While this assumption is a good starting point, the size of the refocusing gradient needs to be calculated based on the soft pulse design if the phase effects are to be cancelled perfectly."
   ]
  },
  {
   "cell_type": "markdown",
   "id": "ed9d5fec-9f5f-41ff-8a1e-b7aff52dad30",
   "metadata": {},
   "source": [
    "<center><img src=\"Images/refocusing_gradient.png\" width=\"800\"></center>\n",
    "<center><figcaption style=\"width: 600px;\">Figure 3.3: Slice Select Spin Echo pulse sequence without (left) and with (right) rephasing lobes</figcaption></center>"
   ]
  },
  {
   "cell_type": "markdown",
   "id": "7723080b-ccc6-4da9-9c93-0039c66ec0f0",
   "metadata": {
    "tags": []
   },
   "source": [
    "> -------------------------------------------------------------------------------------------------------------------------------------------------------\n",
    "> #### **Task 3.3: 2D RARE Using Sinc Shaped Soft Pulse**\n",
    "> 1. Insert **Phantom #005**, and run the experiment below with the Z-Y axes selected.\n",
    "> 2. Adjust the slice select gradient to change the slice thickness until only the middle cell is visible. You may need to also modify the sinc pulse design above if the gradient is reaching the maximum allowed. The sample can also be moved up or down if it is not centred.\n",
    "> 3. Change the axes to X-Y and run again. You should see only the middle cell appearing in the image. If not, go back and adjust the soft pulse/gradient parameters until you do.\n",
    "> 4. **Save/screenshot the image**\n",
    "> -------------------------------------------------------------------------------------------------------------------------------------------------------"
   ]
  },
  {
   "cell_type": "code",
   "execution_count": null,
   "id": "2dc17151-98d9-4614-9728-ae82e7c2fc00",
   "metadata": {
    "jupyter": {
     "source_hidden": true
    },
    "tags": []
   },
   "outputs": [],
   "source": [
    "# Experiment 6: 2D RARE experiment with slice gradient and sinc slice pulse\n",
    "\n",
    "class Task6RARE2DExperiment(Base2DRAREExperiment):\n",
    "    def setup(self):\n",
    "        super().setup() # call parent class setup method\n",
    "        \n",
    "        self.seq = Sequence('programs/custom_pulse_RARE.py')\n",
    "        \n",
    "        self.title = \"2D Image with Sinc RF Pulse and Slice Select Gradient\"\n",
    "        \n",
    "        self.inputs = {\n",
    "            'axis_f': pn.widgets.RadioButtonGroup(name='Freq Enc Axis', options=['X', 'Y', 'Z'], value='X', width = 200),\n",
    "            'axis_p': pn.widgets.RadioButtonGroup(name='Phase Enc Axis', options=['X', 'Y', 'Z'], value='Y', width = 200),\n",
    "            'GSS': pn.widgets.FloatInput(name=\"Slice Select Gradient (mT/m)\", start=0, end=150, step=10, value=100, width=200, disabled=False)\n",
    "        }\n",
    "\n",
    "    def layout_inputs(self):\n",
    "        return pn.Column(\n",
    "            self.inputs['GSS'],\n",
    "            pn.Row(pn.pane.Markdown('### Frequency Encoding Axis', width=200), self.inputs['axis_f']),\n",
    "            pn.Row(pn.pane.Markdown('### Phase Encoding Axis', width=200), self.inputs['axis_p']),\n",
    "            sizing_mode='stretch_width'\n",
    "        )\n",
    "    \n",
    "    def g_phase_mag(self, fov, gamma_bar=GAMMA_BAR):\n",
    "        \"\"\" Returns phase gradient required for a given FOV \"\"\"\n",
    "        dt = self.seq.par.t_phase/(len(self.seq.par.g_phase_2)//2)\n",
    "        return max(0, min(1, 1/(self.G_CAL*fov*gamma_bar*dt))) # clip to range 0 to 1\n",
    "    \n",
    "    def fov_phase(self, gamma_bar=GAMMA_BAR):\n",
    "        \"\"\" Returns phase encode direction FOV \"\"\"\n",
    "        dt = self.seq.par.t_phase/(len(self.seq.par.g_phase_2)//2)\n",
    "        g = self.G_CAL*np.max(np.linalg.norm(self.seq.par.g_phase_2, axis=1))\n",
    "        return 1/(g*gamma_bar*dt)\n",
    "\n",
    "    def update_par(self):\n",
    "        self.seq.setpar(\n",
    "            a_90=estimate_a_90(lab3exp4.pulse_shape,lab3exp4.pulse_width),\n",
    "            t_90=lab3exp4.pulse_width,\n",
    "            shape_90=lab3exp4.pulse_shape,\n",
    "            g_slice=(0,0,-1e-3*self.inputs['GSS'].value/self.G_CAL),\n",
    "            t_phase=320e-6,\n",
    "            g_phase_2=np.zeros((RESOLUTION, 3)),\n",
    "            n_ETL=RESOLUTION,\n",
    "            n_scans=16,\n",
    "            n_samples=RESOLUTION*self.DEC,\n",
    "            t_dw=20e-6/self.DEC,\n",
    "            t_end=1,\n",
    "            # t_grad_ramp=50e-6, # TODO: fix strange artifacts with larger t_grad_ramp\n",
    "            # n_grad_ramp=5\n",
    "        )\n",
    "        \n",
    "        # set calculated pars\n",
    "        self.seq.setpar(\n",
    "            n_ETL=len(self.seq.par.g_phase_2),\n",
    "            t_read=self.seq.par.t_dw*self.seq.par.n_samples\n",
    "        )\n",
    "        self.seq.setpar(\n",
    "            t_phase=self.seq.par.t_read/2\n",
    "        )\n",
    "        \n",
    "        g_phase_prop = np.flip(np.linspace(1, -1, RESOLUTION, endpoint=False))\n",
    "        self.seq.setpar(\n",
    "            g_read = self.g_read_mag(self.FOV)*AXIS_VECTORS[self.inputs['axis_f'].value],\n",
    "            g_phase_2 = np.outer(self.g_phase_mag(self.FOV)*g_phase_prop, AXIS_VECTORS[self.inputs['axis_p'].value])\n",
    "        )\n",
    "\n",
    "lab3exp6 = Task6RARE2DExperiment(state_id='exp6')\n",
    "lab3exp6()"
   ]
  },
  {
   "cell_type": "markdown",
   "id": "54c0658e-bee7-4563-9bf2-6bb1e0a60e7f",
   "metadata": {
    "tags": []
   },
   "source": [
    "## 4. SLR Soft Pulse Design\n",
    "\n",
    "The Sinc method of designing a slice select RF pulse works well at small flip angles, but is not ideal for 90 degree pulses and is quite poor for 180 pulses. A more optimal method, that is widely used, is the Shinnar-Le Roux algorithm. This algorithm takes into account the non-linearity of NMR excitation to achieve equal ripple in the final magnetization spectrum and, therefore, signal spectrum.\n",
    "\n",
    "For 90 degree pulses, this method results in a RF pulse spectrum with minimal sidelobes at the expense of poor flatness on top. However, since the signal level resulting from a near 90 degree flip angle pulse is not very sensitive to the exact flip angle, the slice profile is still quite flat.\n",
    "\n",
    "The SLR algorithm is also used to design asymmetrical RF pulses which are used for advanced techniques. "
   ]
  },
  {
   "cell_type": "markdown",
   "id": "87d42632-60e2-413e-a415-4fcd41445ff4",
   "metadata": {},
   "source": [
    "> -------------------------------------------------------------------------------------------------------------------------------------------------------\n",
    "> #### **Task 4.1: Pulse Design For a Target Slice Thickness Using SLR**\n",
    "> You will need Equation 1: $$\\Delta z = \\frac{\\Delta F}{\\bar\\gamma \\cdot G_{ss}}$$ where $\\bar\\gamma = 42.58 \\times 10^{6} \\ \\mathrm{Hz}/\\mathrm{T}$ for the hydrogen nucleus.\n",
    "> 1. **Question**: Calculate the required bandwidth to achieve a 1 mm slice with the maximum slice gradient, $G_{ss}=150 \\ \\mathrm{mT}/\\mathrm{m}$, and enter the value below (take care with units).\n",
    "> 2. Insert the **Shim Sample**.\n",
    "> 3. Measure the slice profile with the above slice select gradient and check the thickness is correct. You may increase the pulse duration to improve the sharpness of the edges of the slice.\n",
    "> -------------------------------------------------------------------------------------------------------------------------------------------------------"
   ]
  },
  {
   "cell_type": "code",
   "execution_count": null,
   "id": "b218b243-55c8-4c9b-b724-46c3b9666058",
   "metadata": {
    "jupyter": {
     "source_hidden": true
    },
    "tags": []
   },
   "outputs": [],
   "source": [
    "# Experiment 7\n",
    "\n",
    "from matipo.util.pulseshape import calc_soft_pulse\n",
    "\n",
    "class SlrRF(CustomRF):\n",
    "    \n",
    "    def setup(self):\n",
    "        super().setup()\n",
    "        self.title = \"SLR RF Pulse Design\"\n",
    "        self.workspace = WORKSPACE\n",
    "        \n",
    "        self.inputs = {\n",
    "            'width': pn.widgets.FloatInput(name=\"Duration (µs)\", start=100, end=1000, step=10, value=300, width=80),\n",
    "            'bandwidth': pn.widgets.FloatInput(name=\"Bandwidth (kHz)\", start=4, end=40, step=1, value=20, width=80)\n",
    "        }\n",
    "        \n",
    "        self.plots['spectrum'].fig.x_range.start = -2*1e3* self.inputs['bandwidth'].end\n",
    "        self.plots['spectrum'].fig.x_range.end = 2*1e3* self.inputs['bandwidth'].end\n",
    "        \n",
    "        # update plots when any value is changed\n",
    "        self.inputs['width'].param.watch(self.pulse_settings_handler, 'value_throttled')\n",
    "        self.inputs['bandwidth'].param.watch(self.pulse_settings_handler, 'value_throttled')\n",
    "        \n",
    "        # manually trigger for first update\n",
    "        self.inputs['width'].param.trigger('value_throttled')\n",
    "    \n",
    "    \n",
    "    def calc_pulse_shape(self):\n",
    "        # if pulse width*bandwidth is too small, force pulse width to increase\n",
    "        if 1e-6*self.inputs['width'].value*1e3*self.inputs['bandwidth'].value < 1.44:\n",
    "            self.inputs['width'].value = 1e3*1.44/self.inputs['bandwidth'].value\n",
    "        width = 1e-6*self.inputs['width'].value\n",
    "        bw = 1e3*self.inputs['bandwidth'].value\n",
    "        N, dt, pts = calc_soft_pulse(width, bw)\n",
    "        return width, pts\n",
    "        \n",
    "\n",
    "lab3exp7 = SlrRF(state_id='exp7')\n",
    "lab3exp7()"
   ]
  },
  {
   "cell_type": "code",
   "execution_count": null,
   "id": "8de2cc54-12dd-425b-b7f7-ea1ed4d362e6",
   "metadata": {
    "jupyter": {
     "source_hidden": true
    },
    "tags": []
   },
   "outputs": [],
   "source": [
    "class Lab3Task8SpinEchoExperiment(BaseExperiment):\n",
    "    \n",
    "    def setup(self):\n",
    "        self.title = \"SLR RF Pulse Slice Profile Measurement\"\n",
    "        self.workspace = WORKSPACE\n",
    "        self.seq = Sequence('programs/custom_pulse_SE.py')\n",
    "        self.plots = {\n",
    "            'signal': SignalPlot(),\n",
    "            'image': Image1DPlot()\n",
    "        }\n",
    "        \n",
    "        with open(os.path.join(GLOBALS_DIR, 'gradient_calibration.yaml'), 'r') as f:\n",
    "            data = yaml.load(f, Loader=yaml.SafeLoader)\n",
    "            self.G_CAL = 1/(GAMMA_BAR*data['gradient_calibration']) # convert\n",
    "            self.log.debug(f'G_CAL: {self.G_CAL}')\n",
    "        \n",
    "        self.inputs = {\n",
    "            'GSS': pn.widgets.FloatInput(name=\"Slice Select Gradient (mT/m)\", start=0, end=150, step=10, value=150, width=200, disabled=False)\n",
    "        }\n",
    " \n",
    "        self.DEC = 4\n",
    "        self.G_IMAGE = 0.1 # T/m\n",
    "    \n",
    "    def update_par(self):\n",
    "        self.seq.setpar(\n",
    "            a_90=min(1, abs(AREA_90/(np.mean(lab3exp7.pulse_shape)*lab3exp7.pulse_width))),\n",
    "            t_90=lab3exp7.pulse_width,\n",
    "            shape_90=lab3exp7.pulse_shape,\n",
    "            g_slice=(0,0,-1e-3*self.inputs['GSS'].value/self.G_CAL),\n",
    "            g_read=(0,0,self.G_IMAGE/self.G_CAL),\n",
    "            n_scans=4,\n",
    "            n_samples=200*self.DEC,\n",
    "            t_dw=20e-6/self.DEC, # using a long dwell time for narrow bandwith to more easily see the spectrum shape\n",
    "            t_end=0.5\n",
    "        )\n",
    "    \n",
    "    async def update_plots(self, *args, **kwargs):\n",
    "        await self.seq.fetch_data()\n",
    "        self.plots['signal'].update(seqdata=self.seq.data, t_dw=self.seq.par.t_dw)\n",
    "        self.plots['image'].update(\n",
    "            seqdata=self.seq.data,\n",
    "            t_dw=self.seq.par.t_dw,\n",
    "            g_read_mag=self.G_CAL*np.linalg.norm(self.seq.par.g_read),\n",
    "            dec=self.DEC\n",
    "        )\n",
    "            \n",
    "\n",
    "lab3exp8 = Lab3Task8SpinEchoExperiment(state_id='exp8')\n",
    "lab3exp8()"
   ]
  },
  {
   "cell_type": "markdown",
   "id": "79bedaac-fac8-4912-ad66-54e2b6d49818",
   "metadata": {},
   "source": [
    "## 5. Controlling Slice Position"
   ]
  },
  {
   "cell_type": "markdown",
   "id": "6e1ac647-8c8d-455f-8eee-e765c16af353",
   "metadata": {},
   "source": [
    "> -------------------------------------------------------------------------------------------------------------------------------------------------------\n",
    "> #### **Task 5.1: Locating the Hidden Text**\n",
    ">1. Insert **Phantom #006** and adjust the settings to get an XY image of a slice through the text inside the phantom.\n",
    ">2. **Hint:** Try reducing the slice select gradient to get a thicker slice and viewing a Z-Y projection to identify the plane where the text is. You can measure the Z offset of a bright plane and calculate the required frequency offset to position the slice correctly. The text is located in one of the bright planes that are visible in a Z-Y projection.\n",
    "> 3. **Save/screenshot the image**\n",
    "> -------------------------------------------------------------------------------------------------------------------------------------------------------"
   ]
  },
  {
   "cell_type": "code",
   "execution_count": null,
   "id": "3893f520-80d3-49bf-a083-335df89f2b07",
   "metadata": {
    "jupyter": {
     "source_hidden": true
    },
    "tags": []
   },
   "outputs": [],
   "source": [
    "# Experiment 9: 2D RARE experiment with slice gradient and SLR slice pulse\n",
    "\n",
    "class Task9RARE2DExperiment(Base2DRAREExperiment):\n",
    "    def setup(self):\n",
    "        super().setup() # call parent class setup method\n",
    "        \n",
    "        self.seq = Sequence('programs/custom_pulse_RARE.py')\n",
    "        \n",
    "        self.title = \"2D Image with SLR RF Pulse and Slice Select Gradient\"\n",
    "        \n",
    "        self.inputs = {\n",
    "            'axis_f': pn.widgets.RadioButtonGroup(name='Freq Enc Axis', options=['X', 'Y', 'Z'], value='X', width = 200),\n",
    "            'axis_p': pn.widgets.RadioButtonGroup(name='Phase Enc Axis', options=['X', 'Y', 'Z'], value='Y', width = 200),\n",
    "            'GSS': pn.widgets.FloatInput(name=\"Slice Select Gradient (mT/m)\", start=0, end=150, step=10, value=100, width=200, disabled=False),\n",
    "            'freq_offset': pn.widgets.FloatInput(name=\"Pulse Freq. Offset (kHz)\", start=-30, end=30, step=1, value=0, width=200)\n",
    "        }\n",
    "\n",
    "    def layout_inputs(self):\n",
    "        return pn.Column(\n",
    "            self.inputs['GSS'],\n",
    "            self.inputs['freq_offset'],\n",
    "            pn.Row(pn.pane.Markdown('### Frequency Encoding Axis', width=200), self.inputs['axis_f']),\n",
    "            pn.Row(pn.pane.Markdown('### Phase Encoding Axis', width=200), self.inputs['axis_p']),\n",
    "            sizing_mode='stretch_width'\n",
    "        )\n",
    "    \n",
    "    def g_phase_mag(self, fov, gamma_bar=GAMMA_BAR):\n",
    "        \"\"\" Returns phase gradient required for a given FOV \"\"\"\n",
    "        dt = self.seq.par.t_phase/(len(self.seq.par.g_phase_2)//2)\n",
    "        return max(0, min(1, 1/(self.G_CAL*fov*gamma_bar*dt))) # clip to range 0 to 1\n",
    "    \n",
    "    def fov_phase(self, gamma_bar=GAMMA_BAR):\n",
    "        \"\"\" Returns phase encode direction FOV \"\"\"\n",
    "        dt = self.seq.par.t_phase/(len(self.seq.par.g_phase_2)//2)\n",
    "        g = self.G_CAL*np.max(np.linalg.norm(self.seq.par.g_phase_2, axis=1))\n",
    "        return 1/(g*gamma_bar*dt)\n",
    "\n",
    "    def update_par(self):\n",
    "        self.seq.setpar(\n",
    "            a_90=min(1, abs(AREA_90/(np.mean(lab3exp7.pulse_shape)*lab3exp7.pulse_width))),\n",
    "            t_90=lab3exp7.pulse_width,\n",
    "            shape_90=lab3exp7.pulse_shape,\n",
    "            f_slice_offset=1e3*self.inputs['freq_offset'].value,\n",
    "            g_slice=(0,0,1e-3*self.inputs['GSS'].value/self.G_CAL),\n",
    "            g_phase_2=np.zeros((RESOLUTION, 3)),\n",
    "            n_scans=64,\n",
    "            n_samples=RESOLUTION*self.DEC,\n",
    "            t_dw=20e-6/self.DEC,\n",
    "            t_end=1,\n",
    "        )\n",
    "        \n",
    "        # set calculated pars\n",
    "        self.seq.setpar(\n",
    "            n_ETL=len(self.seq.par.g_phase_2),\n",
    "            t_read=self.seq.par.t_dw*self.seq.par.n_samples\n",
    "        )\n",
    "        self.seq.setpar(\n",
    "            t_phase=self.seq.par.t_read/2\n",
    "        )\n",
    "        \n",
    "        g_phase_prop = np.flip(np.linspace(1, -1, RESOLUTION, endpoint=False))\n",
    "        self.seq.setpar(\n",
    "            g_read = self.g_read_mag(self.FOV)*AXIS_VECTORS[self.inputs['axis_f'].value],\n",
    "            g_phase_2 = np.outer(self.g_phase_mag(self.FOV)*g_phase_prop, AXIS_VECTORS[self.inputs['axis_p'].value])\n",
    "        )\n",
    "        \n",
    "\n",
    "lab3exp9 = Task9RARE2DExperiment(state_id='exp9')\n",
    "lab3exp9()"
   ]
  },
  {
   "cell_type": "code",
   "execution_count": null,
   "id": "d796876a-7cf5-4f4e-933b-1c148f0aecb1",
   "metadata": {},
   "outputs": [],
   "source": []
  }
 ],
 "metadata": {
  "kernelspec": {
   "display_name": "Python 3 (ipykernel)",
   "language": "python",
   "name": "python3"
  },
  "language_info": {
   "codemirror_mode": {
    "name": "ipython",
    "version": 3
   },
   "file_extension": ".py",
   "mimetype": "text/x-python",
   "name": "python",
   "nbconvert_exporter": "python",
   "pygments_lexer": "ipython3",
   "version": "3.10.12"
  }
 },
 "nbformat": 4,
 "nbformat_minor": 5
}
