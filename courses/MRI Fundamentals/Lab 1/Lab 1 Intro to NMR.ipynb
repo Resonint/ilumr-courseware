{
 "cells": [
  {
   "cell_type": "markdown",
   "id": "d71971d6-d6ef-469e-912e-150e28645ac8",
   "metadata": {
    "tags": []
   },
   "source": [
    "# **LAB ONE: INTRO TO NMR**\n",
    "\n",
    "This lab briefly introduces nuclear magnetic resonance and covers basic NMR concepts: $\\vec B_0$ and $\\vec B_1$, Larmor frequency, probe tuning, free induction decay, flip angle, pulse calibration, $\\vec B_0$ inhomogeneity, shimming, and spin echoes."
   ]
  },
  {
   "cell_type": "markdown",
   "id": "cddb0019-74db-4e0b-828d-bc79417a2c01",
   "metadata": {
    "tags": []
   },
   "source": [
    " -------------------------------------------------------------------------------------------------------------------------------------------------------\n",
    " #### **Required Resources**\n",
    " \n",
    " For this lab you will need:\n",
    " - ilumr fitted with 10mm RF Probe\n",
    " - Shim Sample (#001)\n",
    " \n",
    " -------------------------------------------------------------------------------------------------------------------------------------------------------"
   ]
  },
  {
   "cell_type": "markdown",
   "id": "3864ef43-f547-466c-9e3c-5bdc9e05c970",
   "metadata": {
    "tags": []
   },
   "source": [
    "> -------------------------------------------------------------------------------------------------------------------------------------------------------\n",
    "> #### **Setup Task: Run the Notebook**\n",
    "> \n",
    "> 1. Edit the cell below to set the `LAB_USER_NAME` variable to your name\n",
    "> 2. Click **Run->Run All Cells** in the in top menu bar of jupyterlab\n",
    "> 3. Open the Table of Contents side-bar on the left edge of jupyterlab to aid in navigation\n",
    "> \n",
    "> -------------------------------------------------------------------------------------------------------------------------------------------------------"
   ]
  },
  {
   "cell_type": "code",
   "execution_count": null,
   "id": "ca225c74-9971-4bb3-9682-ec387ab7d8ae",
   "metadata": {
    "tags": []
   },
   "outputs": [],
   "source": [
    "LAB_USER_NAME = 'REPLACE_ME'"
   ]
  },
  {
   "cell_type": "code",
   "execution_count": null,
   "id": "0f0473b4-f3fb-4f61-9a3b-79193b0db173",
   "metadata": {
    "jupyter": {
     "source_hidden": true
    },
    "tags": []
   },
   "outputs": [],
   "source": [
    "import panel as pn\n",
    "import os\n",
    "import yaml\n",
    "import numpy as np\n",
    "\n",
    "from matipo import Sequence, SEQUENCE_DIR, GLOBALS_DIR, DATA_DIR, Unit\n",
    "\n",
    "from matipo.experiment.base_experiment import BaseExperiment, auto_inputs, PlotInterface\n",
    "from matipo.experiment.plots import SignalPlot, SpectrumPlot, WobblePlot, LinePlot\n",
    "\n",
    "pn.extension(inline=True)\n",
    "\n",
    "WORKSPACE = os.path.join(LAB_USER_NAME, 'Lab 1')\n",
    "LAB_DIR = os.path.join(DATA_DIR, WORKSPACE)\n",
    "os.makedirs(LAB_DIR, exist_ok=True)\n",
    "SHIM_FILE = os.path.join(LAB_DIR, 'shims.yaml')\n",
    "DEFAULT_SHIMS = dict(shim_x=0, shim_y=0, shim_z=0, shim_z2=0, shim_zx=0, shim_zy=0, shim_xy=0, shim_x2y2=0)\n",
    "if not os.path.isfile(SHIM_FILE):\n",
    "    with open(SHIM_FILE, 'w') as f:\n",
    "        yaml.dump(DEFAULT_SHIMS, f)\n",
    "print('Data will be saved to', LAB_DIR)"
   ]
  },
  {
   "cell_type": "markdown",
   "id": "1fdb91dc-3e4d-4ffb-8c76-7123f07a9ed0",
   "metadata": {},
   "source": [
    "----------------------------------------------------------------------"
   ]
  },
  {
   "cell_type": "markdown",
   "id": "83fd4fd7-94da-4fd1-a951-7c54111ea8f1",
   "metadata": {
    "tags": []
   },
   "source": [
    "## 1. Introduction"
   ]
  },
  {
   "cell_type": "markdown",
   "id": "40b20454-32c9-4f3a-97e2-a08b18743457",
   "metadata": {
    "tags": []
   },
   "source": [
    "### Theory\n",
    "\n",
    "<figure style=\"float: right;\">\n",
    "<img src=\"Images/PrecessionDiagram.png\" width=\"200\">\n",
    "<figcaption style=\"width: 200px;\">Figure 1.1: Hydrogen nucleus precessing in a magnetic field</figcaption>\n",
    "</figure>\n",
    "\n",
    "Nuclear Magnetic Resonance occurs when a magnetic nucleus (e.g. hydrogen) is placed in an external magnetic field. Using a classical physics model, the nucleus can be thought of as a tiny bar magnet with an orientation and strength represented by its magnetic moment, written as $\\vec\\mu$. Nuclei with nonzero magnetic moment also have angular momentum, so it can also be thought of as a spinning top with the magnetic axis oriented in the same direction as the rotation axis (see the diagram on the right). When placed in an external magnetic field, which we will call $\\vec B_0$, the nucleus will experience a torque pulling it into alignment with $\\vec B_0$. However, because the nucleus also has angular momentum it will not rotate directly into alignment, but instead it will precess around $\\vec B_0$; behaving like a spinning top that is gradually falling over.\n",
    "\n",
    "The frequency of this precession is called the Larmor Frequency, given by:\n",
    "\n",
    "$$f = \\frac{\\gamma}{2\\pi} B_0 \\tag{1.1}$$\n",
    "\n",
    "$\\gamma$ is the gyromagnetic ratio, which is a property of the nucleus. We will be using hydrogen nuclei (the hydrogen in water), which has a gyromagnetic ratio of:\n",
    "\n",
    "$$\\gamma/2\\pi = 42.58 \\times 10^{6} \\ \\mathrm{Hz}/\\mathrm{T} \\tag{1.2}$$"
   ]
  },
  {
   "cell_type": "markdown",
   "id": "e5975cc3-32ff-4c32-9dbb-fe88604905f9",
   "metadata": {
    "tags": []
   },
   "source": [
    "### Hardware\n",
    "\n",
    "<figure style=\"float: right;\">\n",
    "<img src=\"Images/MagnetCore_ilumr.png\" width=\"400\" style=\"display: block;\"/>\n",
    "<center><figcaption style=\"width: 300px;\">Figure 1.2: Magnetic Field Directions </figcaption></center>\n",
    "<img src=\"Images/MagneticFieldDirection.png\" width=\"400\" style=\"display: block;\"/>\n",
    "<center><figcaption style=\"width: 300px;\">Figure 1.3: Conventional Orientation of Fields </figcaption></center>\n",
    "</figure>\n",
    "\n",
    "In ilumr, the main magnetic field, $\\vec B_0$, is created by a cylindrical permanent magnet around the sample as shown in Figure 1.2, with a direction across the bore. When a sample is inserted into the bore, the nuclei will begin to precess around $\\vec B_0$. The individual magnetic moments, $\\vec \\mu$, of all the nuclei in the sample can be combined into a net magnetic moment, $\\vec M$.\n",
    "\n",
    "If a coil is placed around the sample, changes in the component of $\\vec M$ along the coil's axis will produce a measurable current in the coil. The plane that the nuclei precess in is perpendicular to the main magnetic field, $\\vec B_0$, so the coil should also be perpendicular to $\\vec B_0$ to maximise the signal. Conventionally, the coil axis is labeled the $x$ axis and the magnetic field direction the $z$ axis. When the nuclei are precessing, $M_x$ will be oscillating sinusoidally due to the rotation of $\\vec M$ around the $z$ axis. The orientations of $\\vec B_0$, $\\vec B_1$, and $\\vec M$ are shown in Figure 1.3 in the conventional coordinate system.\n",
    "\n",
    "After waiting some time, the nuclei in the sample will have reached an equilibrium where $\\vec M$ is completely aligned with $\\vec B_0$ and will not induce any signal in the coil. To obtain a signal, the coil is driven to create a magnetic field $\\vec B_1$ that oscillates at the Larmor frequency, exciting the resonance. After excitation, $\\vec M$ will precess while gradually returning to the equilibrium position, creating a signal in the coil called the Free Induction Decay (FID)."
   ]
  },
  {
   "cell_type": "markdown",
   "id": "ddb4d484-06bb-4662-b2c6-f823673c677e",
   "metadata": {
    "tags": []
   },
   "source": [
    "## 2. Tuning the RF Probe\n",
    "\n",
    "<figure style=\"float: right;\">\n",
    "<img src=\"Images/CapCircuit.png\" width=\"300\" style=\"display: block;\">\n",
    "<center><figcaption style=\"width: 300px;\">Figure 2.1: Resonant Circuit</figcaption></center>\n",
    "</figure>\n",
    "\n",
    "In order to efficiently generate the $\\vec B_1$ field and pickup the signal from the net magnetization $\\vec M$, the coil is combined with a capacitor to form a resonant circuit shown in the figure on the right. The resonant frequency of an LC circuit is:\n",
    "\n",
    "$$f = \\frac{1}{2\\pi\\sqrt{LC}} \\tag{2.1}$$\n",
    "\n",
    "This frequency needs to be close to the NMR resonant frequency to optimise the transmit and receive efficiency of the probe. Adjusting the *Tune* capacitor on the probe changes the value of $C$. The LC resonator circuit also needs to be impedance matched to the RF transmit amplifier and receive preamplifier, which have a characteristic impedance of 50 Ohms. This is accomplished with a *Match* capacitor.\n",
    "\n",
    "The *Match* capacitor actually also has some effect on the resonant frequency, and the *Tune* capacitor has some effect on the impedance, so in practice it is an iterative process to optimise these values.\n",
    "\n",
    "The Wobble tool sweeps through a range of frequencies and measures the amount of power reflected by the probe circuit. The probe will only absorb power close to its resonant frequency, so reflected power plot will have a dip at that frequency. At the resonant frequency there will still be some power reflected if there is an impedance mismatch, so the level of the reflected power plot at the bottom of the dip indicates how well matched the probe is."
   ]
  },
  {
   "cell_type": "markdown",
   "id": "82a63a39-e2f9-4798-86ce-470dd3f554c5",
   "metadata": {
    "tags": []
   },
   "source": [
    "<figure style=\"float: right;\">\n",
    "<img src=\"Images/ilumr_tuning_caps.png\" width=\"250\" style=\"display: block;\"/>\n",
    "</figure>\n",
    "\n",
    "<figure style=\"float: right;\">\n",
    "<img src=\"Images/ilumr_Diskanimation.gif\" width=\"250\" style=\"display: block;\"/>\n",
    "</figure>\n",
    "\n",
    "> -------------------------------------------------------------------------------------------------------------------------------------------------------\n",
    "> #### **Task 2.1: Tune the Probe**\n",
    "> 1. For ilumr the magnetic field strength is approximately $B_0 = 0.35 \\ \\mathrm{T}$ (if a hall probe is available you may measure the field strength to get a more accurate value).\n",
    "> 2. Using [Equation 1.1](#mjx-eqn-1), calculate the expected Larmor frequency and enter your calculated value in MHz into the \"Frequency\" box below.\n",
    "> 3. Remove the black plate on top of the ilumr by rotating it anticlockwise.\n",
    "> 4. Run the **Wobble** tool below in loop mode. \n",
    "> 5. While the **Wobble** tool is running, adjust the variable capacitors with the provided screwdriver to tune and match the RF coil to your calculated Larmor frequency (Note: the dotted line on the plot corresponds to the desired frequency). \n",
    "> 6. Record the the dB value of the lowest point. \n",
    "> 7. Save an image of the reflected power plot.\n",
    "> 8. Load a sample into the ilumr. Note: Loading the sample into the coil will slightly affect both the tune and match of the coil.\n",
    "> -------------------------------------------------------------------------------------------------------------------------------------------------------"
   ]
  },
  {
   "cell_type": "code",
   "execution_count": null,
   "id": "89ad5e40-0db4-4dc2-a563-b1b5288e4dc8",
   "metadata": {
    "jupyter": {
     "source_hidden": true
    },
    "tags": []
   },
   "outputs": [],
   "source": [
    "class WobbleExperiment(BaseExperiment):\n",
    "    def setup(self):\n",
    "        self.workspace = WORKSPACE\n",
    "        self.seq = Sequence(SEQUENCE_DIR+'wobble.py')\n",
    "        self.enable_runloop=True\n",
    "        self.plots = {\n",
    "            'wobble': WobblePlot(figure_opts=dict(height=200))\n",
    "        }\n",
    "        \n",
    "        self.inputs = auto_inputs(self.seq, {\n",
    "            'f': 14.0*Unit('MHz')\n",
    "        })\n",
    "        \n",
    "        # set custom label\n",
    "        self.inputs['f'].name = 'Frequency (MHz)'\n",
    "\n",
    "    def update_par(self):\n",
    "        self.seq.setpar(f_bw=1e6)\n",
    "        # if the frequency range would overlap 0, shift the centre frequency to avoid negative frequencies\n",
    "        if self.seq.par.f < self.seq.par.f_bw/2:\n",
    "            self.seq.setpar(f=self.seq.par.f_bw/2)\n",
    "    \n",
    "    async def update_plots(self, *args, **kwargs):\n",
    "        await self.seq.fetch_data()\n",
    "        self.plots['wobble'].update(\n",
    "            seqdata=self.seq.data, \n",
    "            f=self.seq.par.f, \n",
    "            f_bw=self.seq.par.f_bw, \n",
    "            n_samples=self.seq.par.n_samples)\n",
    "            \n",
    "\n",
    "exp1 = WobbleExperiment(state_id='exp1')\n",
    "exp1()"
   ]
  },
  {
   "cell_type": "markdown",
   "id": "f2bfbc1f-a4b4-4e87-9555-430806577055",
   "metadata": {
    "tags": []
   },
   "source": [
    "NOTE: If using **Run Loop**, click abort before continuing\n"
   ]
  },
  {
   "cell_type": "markdown",
   "id": "1cf8ee5a-d3b8-4059-95ff-498e4a47805d",
   "metadata": {},
   "source": [
    "## 3. The Free Induction Decay Signal"
   ]
  },
  {
   "cell_type": "markdown",
   "id": "a359d137-5dc8-4b68-8fa8-8fa691634445",
   "metadata": {
    "tags": []
   },
   "source": [
    "<figure style=\"float: right;\">\n",
    "<img src=\"Images/depth.png\" width=\"100\" style=\"display: block;\">\n",
    "</figure>\n",
    "\n",
    "> ---\n",
    "> #### **Task 3.1: Pulse & Collect** \n",
    "> 1. Use the depth gauge to align the **shim sample** with the 10mm point.\n",
    "> 2. Load the **shim sample** into the ilumr.\n",
    "> 3. Input your calculated frequency and a starting RF amplitude guess of 10% into the boxes below.\n",
    "> 4. Run the **Pulse Collect** tool below. The result should be a visible decaying sine wave in the signal plot, and a narrow spike in the spectrum plot. If there is no visible NMR signal, increase the Pulse Amplitude and try again.\n",
    "> 5. Zoom into the spike in the spectrum plot and read the relative frequency off the frequency axis (use the zoom tools at the top right of the plot, and take note of the SI prefix on the axis tick labels).\n",
    "> 6. Add the frequency offset you measured to the frequency input and Rerun **Pulse Collect**. The spike in the spectrum should now be centred at 0 on the relative frequency axis.\n",
    "> 7. Record the frequency you have measured, and use [Equation 1.1](#mjx-eqn-1) to calculate the field strength from this measured frequency. How does the field strength found this way compare to the field strength provided in **Task 2.1**?\n",
    "> ---"
   ]
  },
  {
   "cell_type": "code",
   "execution_count": null,
   "id": "402bcc44-a1d3-4c31-b5b3-dfab3808d5a5",
   "metadata": {
    "jupyter": {
     "source_hidden": true
    },
    "tags": []
   },
   "outputs": [],
   "source": [
    "# Pulse collect experiment\n",
    "class PulseCollectExperiment(BaseExperiment):\n",
    "    def setup(self):\n",
    "        self.workspace = WORKSPACE\n",
    "        self.seq = Sequence(SEQUENCE_DIR+'FID.py')\n",
    "        self.enable_partialplot=False\n",
    "        self.default_par_files = [SHIM_FILE]\n",
    "        self.plots = {\n",
    "            'signal': SignalPlot(show_magnitude=True),\n",
    "            'spectrum': SpectrumPlot()\n",
    "        }\n",
    "        \n",
    "        self.inputs = auto_inputs(self.seq, {\n",
    "            'f': 14.0*Unit('MHz'),\n",
    "            'a_90': 10*Unit('%')\n",
    "        })\n",
    "        \n",
    "        # set custom label\n",
    "        self.inputs['f'].name = 'Frequency (MHz)'\n",
    "        self.inputs['a_90'].name = 'Pulse Amplitude (%)'\n",
    "        \n",
    "        self.fixed_par = dict(\n",
    "            n_scans=4,\n",
    "            t_90=32e-6,\n",
    "            n_samples=1000,\n",
    "            t_dw=0.2e-6,\n",
    "            t_end=0.5\n",
    "        )\n",
    "\n",
    "    def update_par(self):\n",
    "        self.seq.setpar(**self.fixed_par)\n",
    "    \n",
    "    async def update_plots(self, *args, **kwargs):\n",
    "        await self.seq.fetch_data()\n",
    "        self.plots['signal'].update(seqdata=self.seq.data, t_dw=self.seq.par.t_dw)\n",
    "        self.plots['spectrum'].update(seqdata=self.seq.data, t_dw=self.seq.par.t_dw)\n",
    "            \n",
    "\n",
    "exp2 = PulseCollectExperiment(state_id='exp2')\n",
    "exp2()"
   ]
  },
  {
   "cell_type": "markdown",
   "id": "8971bac0-8d39-484e-93ba-fb084f912cb6",
   "metadata": {
    "tags": []
   },
   "source": [
    "### Note: Quadrature Detection and Rotating Reference Frames\n",
    "\n",
    "At the NMR frequency you measured, there would be thousands of cycles in the signal plot above if it were just a measurement of the magnetization along a fixed axis. Instead, to simplify processing and visualization, the signal from the probe is processed using a quadrature detector which removes a carrier frequency from a signal; this is a commonly used technique in radio receivers.\n",
    "\n",
    "The result is a measurement of the signal in a rotating reference frame. Imagine a camera that is stationary and one that is rotating at your chosen frequency around the sample (see Figure 3.1); the stationary camera will see the magnetization precessing rapidly at the NMR frequency, however the rotating camera will only see the difference between the movement of the magnetization and the movement of the camera. The perspectives of these imaginary cameras are often called the \"lab frame\" and \"rotating frame\". If the rotation frequency of the rotating frame is perfectly set to the NMR frequency, then the measured signal does not oscillate at all!\n",
    "\n",
    "The real and imaginary parts of the signal are the components along the $y'$ and $x'$ axes in the rotating frame, respectively.\n",
    "\n",
    "<center><img src=\"Images/RotatingFrame.png\" width=\"1400\"></center>\n",
    "<center><figcaption style=\"width: 300px;\">Figure 3.1: Rotating Frames </figcaption></center>"
   ]
  },
  {
   "cell_type": "markdown",
   "id": "2a72e704-0889-41b3-aefa-a825ab982dde",
   "metadata": {},
   "source": [
    "> ---\n",
    "> #### **Task 3.2: Retune the Probe**\n",
    "> 1. If the frequency measured in **Task 3.1** is significantly different from that estimated in **Task 2.1** then probe may need to be retuned.\n",
    "> 2. Run the **Wobble** tool below with the new frequency, and retune the probe if necessary. As a rule of thumb, the lowest point should be within 20kHz of the NMR frequency (dotted line).\n",
    "> ---\n"
   ]
  },
  {
   "cell_type": "code",
   "execution_count": null,
   "id": "1bc85e8f-3b87-4683-8aac-1db0abe14566",
   "metadata": {
    "jupyter": {
     "source_hidden": true
    },
    "tags": []
   },
   "outputs": [],
   "source": [
    "exp3 = WobbleExperiment(state_id='exp3')\n",
    "exp3()"
   ]
  },
  {
   "cell_type": "markdown",
   "id": "2999cb79-929c-4d3c-b27a-7b0302b509dd",
   "metadata": {
    "tags": []
   },
   "source": [
    "## 4. Optimising the Flip Angle\n",
    "\n",
    "<figure style=\"float: right;  margin-top: 0;\">\n",
    "<center><img src=\"Images/SpinAngleDiagram.png\" width=\"600\" style=\"display: block;\"></center>\n",
    "<center><figcaption style=\"width: 300px;\">Figure 4.1: Relationship between pulse amplitude, flip angle and signal</figcaption></center>\n",
    "</figure>\n",
    "\n",
    "In the rotating frame, $\\vec B_1$ appears like a static field (because it is rotating in the lab frame at the same frequency as the rotating frame). In this case, $\\vec B_1$ is always aligned with the $x'$ axis, and exerts a torque on the nuclei. This torque causes the nuclei to precess around the $x'$ axis (while still also precessing around $\\vec B_0$). If the $\\vec B_1$ field is applied for a short time $t$, the final angle of rotation will be (in radians):\n",
    "\n",
    "$$\\alpha = \\gamma B_1 t \\tag{4.1}$$\n",
    "\n",
    "where $\\gamma$ is the gyromagnetic ratio. \n",
    "\n",
    "As a result of this relationship, the flip angle $\\alpha$ is proportional to the area under the RF pulse in the pulse sequence.\n",
    "\n",
    "The signal we measure is proportional only to the component of $\\vec M$ that is in the $xy$ plane, called $\\vec M_{xy}$, and the component along the $z$ axis is invisible to the probe. The RF pulse amplitude guess we used in **Task 3.1** resulted in a signal but, to maximise the signal, the pulse amplitude needs to be calibrated to cause a $90^\\circ$ rotation of the magnetization from the $z$ axis to the $xy$ plane. Figure 4.1 shows how a flip angle that is less or greater then $90^\\circ$ results in reduced signal due to $\\vec M$ not lying in the $xy$ plane.\n",
    "\n",
    "The $B_1$ field strength depends on the RF pulse amplitude ($A_{1-3}$), but is also affected by the probe tuning and loading from the sample, so the correct RF pulse amplitude must be empirically determined each time the probe tuning or sample is changed. This will be done in **Task 4.1**."
   ]
  },
  {
   "cell_type": "markdown",
   "id": "65042988-7896-4161-a15e-502e971ef107",
   "metadata": {},
   "source": [
    "> ---\n",
    "> #### **Task 4.1: Pulse Calibration** \n",
    "> 1. Set the frequency and run the **Pulse Calibration** tool below.\n",
    "> 2. Find the amplitude value that corresponds to a $90^\\circ$ flip angle (the first maximimum of the *Calibration* plot) and record it in your notebook.\n",
    "> ---"
   ]
  },
  {
   "cell_type": "code",
   "execution_count": null,
   "id": "82f5c34f-13f5-4d6c-add8-c5095a5663c8",
   "metadata": {
    "jupyter": {
     "source_hidden": true
    },
    "tags": []
   },
   "outputs": [],
   "source": [
    "# pulse calibration experiment\n",
    "\n",
    "def gaussian_apodize(data, lb):\n",
    "    t = np.linspace(0, 1, len(data))\n",
    "    return data * np.exp(-lb*lb*t*t)\n",
    "\n",
    "class PulseCalibrationExperiment(BaseExperiment):\n",
    "    def setup(self):\n",
    "        self.workspace = WORKSPACE\n",
    "        self.seq = Sequence(SEQUENCE_DIR+'FID.py')\n",
    "        self.enable_partialplot=True\n",
    "        self.default_par_files = [SHIM_FILE]\n",
    "        self.plots = {\n",
    "            'signal': SignalPlot(show_magnitude=True),\n",
    "            'cal': LinePlot(figure_opts=dict(\n",
    "                title='Calibration',\n",
    "                x_axis_label='Pulse Amplitude (%)',\n",
    "                y_axis_label='Signal Sum of Squares (V²)',\n",
    "                tooltips=[\n",
    "                    ('x', '@x'),\n",
    "                    ('y', '@y')\n",
    "                ]))\n",
    "        }\n",
    "        \n",
    "        self.inputs = auto_inputs(self.seq, {\n",
    "            'f': 14.0*Unit('MHz')\n",
    "        })\n",
    "        \n",
    "        # set custom label\n",
    "        self.inputs['f'].name = 'Frequency (MHz)'\n",
    "    \n",
    "    async def update_plots(self, final, *args, **kwargs):\n",
    "        self.plots['signal'].update(seqdata=self.y_latest, t_dw=self.seq.par.t_dw)\n",
    "        self.plots['cal'].update(data=dict(sumsq=dict(x=100*self.amp_vals, y=self.sumsqs)))\n",
    "    \n",
    "    async def run(self, progress_handler):\n",
    "        self.seq.setpar(\n",
    "            t_90=32e-6,\n",
    "            n_scans=1,\n",
    "            n_samples=2000,\n",
    "            t_dw=0.5e-6,\n",
    "            t_acqdelay=50e-6,\n",
    "            t_end=0.5\n",
    "        )\n",
    "        \n",
    "        self.y_latest = None # keep copy of latest signal data for plotting\n",
    "        self.N_amp = 51\n",
    "        self.amp_vals = 0.02*np.arange(self.N_amp)\n",
    "        self.sumsqs = np.empty(self.N_amp)\n",
    "        self.sumsqs[:] = np.nan\n",
    "        \n",
    "        for i, amp in enumerate(self.amp_vals):\n",
    "            self.seq.setpar(a_90=amp)\n",
    "            self.y_latest = await self.seq.run()\n",
    "            self.sumsqs[i] = np.sum(gaussian_apodize(np.abs(self.y_latest), 2) ** 2)\n",
    "            progress_handler(i, len(self.amp_vals))\n",
    "\n",
    "exp4 = PulseCalibrationExperiment(state_id='exp4')\n",
    "exp4()"
   ]
  },
  {
   "cell_type": "markdown",
   "id": "fab34929-b0fe-41df-a26e-f8d34b7ada77",
   "metadata": {},
   "source": [
    "> ---\n",
    "> #### **Task 4.2: FID Check after Pulse Calibration** \n",
    "> 1. Enter your frequency and the RF pulse amplitude value you determined in **Task 4.1** below.\n",
    "> 2. Run the **Pulse Collect** experiment and compare the initial signal level to what you had in **Task 3.1**.\n",
    "> 3. Save an image of the signal plot.\n",
    "> 4. Measure the decay time constant of the signal:\n",
    ">     1. Measure the initial magnitude of the signal.\n",
    ">     2. Measure the time where the magnitude has decayed to approximately 37% ($1/e$) of the initial magnitude.\n",
    "> 5. Record this time constant in your notebook.\n",
    "> ---"
   ]
  },
  {
   "cell_type": "code",
   "execution_count": null,
   "id": "e1d46339-0759-4a1d-a7d9-3ab002d3061b",
   "metadata": {
    "jupyter": {
     "source_hidden": true
    },
    "tags": []
   },
   "outputs": [],
   "source": [
    "exp5 = PulseCollectExperiment(state_id='exp5')\n",
    "exp5.fixed_par['t_dw'] = 5e-6\n",
    "exp5()"
   ]
  },
  {
   "cell_type": "markdown",
   "id": "09234df8-daff-49c5-b5de-19a5fdf70cea",
   "metadata": {
    "tags": []
   },
   "source": [
    "## 5. Signal Decay & Shimming\n",
    "\n",
    "The NMR signal is short lived, after an excition the net magnetization $\\vec M$ gradually returns to the $B_0$ direction ($z$ axis). This relaxation is described by two processes:\n",
    "\n",
    "*Longitudinal relaxation* is the recovery of the *longitudinal* component $M_z$ with time constant $T_1$. In the simple case after a $90^\\circ$ pulse this is:\n",
    "\n",
    "$$M_z(t) = M_0 \\cdot (1-e^{-t/T_1}) \\tag{5.1}$$\n",
    "\n",
    "where $M_0$ is the equilibrium magnetization, obtained after waiting a long time.\n",
    "\n",
    "*Transverse relaxation*: The decay of the *transverse* component $M_{xy}$ with time constant $T_2$:\n",
    "\n",
    "$$M_{xy}(t) = M_{xy}(0) \\cdot e^{-t/T_2} \\tag{5.2}$$\n",
    "\n",
    "<figure style=\"float: right;\">\n",
    "<img src=\"Images/T2StarDecay.png\" width=\"300\">\n",
    "<figcaption style=\"width: 300px\">Figure 5.1: The FID in a homogeneous field ($T_2$) vs inhomogeneous field ($T_2^*$)</figcaption>\n",
    "</figure>\n",
    "\n",
    "The transverse relaxation responsible for our signal decaying is partly caused by random processes in the sample itself that dephase the individual magnetic moments of nuclei, but is also affected by inhomogeneity (variation at different locations) in the main magnetic field $\\vec B_0$ (see figures 5.1 & 5.2). The time constant due to inhomogeneity is called $T_2^*$, to distinguish it from the time constant that is a property only of the sample, called $T_2$.\n",
    "\n",
    "Improving the homogeneity of the magnetic field will lengthen $T_2^*$, making the signal last longer and improving the total amount of signal obtained from a single excitation. In practice this is accomplished with an array of coils and drivers that precisely control the current through them, which are called *electronic shims*.\n",
    "\n",
    "<center><figure>\n",
    "<img src=\"Images/T2StarPhaseDiagram.png\">\n",
    "<figcaption>Figure 5.2: Magnetic moments at different points in the sample (1,2,3,4) dephasing due to differences in local $B_0$ field strength, reducing the measureable net magnetic moment $M_{xy}$</figcaption>\n",
    "</figure></center>"
   ]
  },
  {
   "cell_type": "markdown",
   "id": "60908ffa-647c-46b4-a7ce-04b48c25cfd8",
   "metadata": {},
   "source": [
    "> ---\n",
    "> #### **Task 5.1: Run Autoshim**\n",
    "> 1. Update the input parameters and Run the **Autoshim** tool below. This tool starts with all shims set to zero, and is equivalent to the **Coarse** setting in the Autoshim dashboard app. This will take about 5 mins.\n",
    "> - The shim values will be saved to the `shims.yaml` file in your `LAB_DIR` (printed at the top of the notebook after entering your username), and will be used by the other experiments in this notebook automatically.\n",
    "> ---"
   ]
  },
  {
   "cell_type": "code",
   "execution_count": null,
   "id": "4d56f255-cce0-4994-a517-743ed18dfb93",
   "metadata": {
    "jupyter": {
     "source_hidden": true
    },
    "tags": []
   },
   "outputs": [],
   "source": [
    "from matipo.util.optimisation import nelder_mead_async\n",
    "\n",
    "class AutoshimExperiment(BaseExperiment):\n",
    "    def setup(self):\n",
    "        self.workspace = WORKSPACE\n",
    "        self.shim_file = SHIM_FILE\n",
    "        self.seq = Sequence(SEQUENCE_DIR+'FID.py')\n",
    "        self.enable_partialplot=True\n",
    "        self.plots = {\n",
    "            'signal': SignalPlot(show_magnitude=True),\n",
    "            'shims': LinePlot(\n",
    "                legend_opts=dict(\n",
    "                    location='bottom_left',\n",
    "                    orientation='horizontal'\n",
    "                ),\n",
    "                figure_opts=dict(\n",
    "                    title='Shim Values',\n",
    "                    x_axis_label='Iteration',\n",
    "                    y_axis_label='Value (%)'\n",
    "                )\n",
    "            )\n",
    "        }\n",
    "        \n",
    "        self.inputs = auto_inputs(self.seq, {\n",
    "            'f': 14.0*Unit('MHz'),\n",
    "            'a_90': 10*Unit('%')\n",
    "        })\n",
    "        \n",
    "        # set custom label\n",
    "        self.inputs['f'].name = 'Frequency (MHz)'\n",
    "        self.inputs['a_90'].name = 'Pulse Amplitude (%)'\n",
    "        \n",
    "        self.N_O1 = 3\n",
    "        self.N_O2 = 5\n",
    "        self.O1_shim_step = 0.5\n",
    "        self.O2_shim_step = 0.5\n",
    "        self.O1_precision = 0.005\n",
    "        self.O2_precision = 0.005\n",
    "        self.max_iterations = 100\n",
    "\n",
    "        self.shim_order = ['shim_x', 'shim_y', 'shim_z', 'shim_z2', 'shim_zx', 'shim_zy', 'shim_xy', 'shim_x2y2']\n",
    "    \n",
    "    def saveshims(self, shims):\n",
    "        with open(self.shim_file, 'w') as f:\n",
    "            yaml.dump(shims, f)\n",
    "    \n",
    "    async def update_plots(self, final, *args, **kwargs):\n",
    "        self.plots['signal'].update(seqdata=self.y_latest, t_dw=self.seq.par.t_dw)\n",
    "        shim_vals_x_axis = np.arange(len(self.shim_vals['shim_x']))\n",
    "        self.plots['shims'].update(data={key: dict(x=shim_vals_x_axis, y=self.shim_vals[key]) for key in self.shim_order})\n",
    "    \n",
    "    async def run(self, progress_handler):\n",
    "        self.seq.setpar(\n",
    "            t_90=32e-6,\n",
    "            n_scans=1,\n",
    "            n_samples=1000,\n",
    "            t_dw=32e-6,\n",
    "            t_acqdelay=50e-6,\n",
    "            t_end=0.5\n",
    "        )\n",
    "        \n",
    "        self.y_latest = None # keep copy of latest signal data for plotting\n",
    "        self.shim_vals = {key: [] for key in self.shim_order}\n",
    "        self.sumsqs = []\n",
    "        \n",
    "        init_step = [self.O1_shim_step]*self.N_O1 + [self.O2_shim_step]*self.N_O2\n",
    "        precision = [self.O1_precision]*self.N_O1 + [self.O2_precision]*self.N_O2\n",
    "        lower_bounds = [-1]*(self.N_O1+self.N_O2)\n",
    "        upper_bounds = [1]*(self.N_O1+self.N_O2)\n",
    "        shims = np.zeros(self.N_O1+self.N_O2)\n",
    "        \n",
    "        # do a dummy so that the first actual run has similar T1 relaxation effects\n",
    "        await self.evalfunc(shims, dummy=True)\n",
    "        \n",
    "        i = 0\n",
    "        best_shims = shims\n",
    "        async for r in nelder_mead_async(self.evalfunc, shims, x_lb=lower_bounds, x_ub=upper_bounds, max_iter=self.max_iterations, step=init_step, x_precision=precision):\n",
    "            if not np.array_equal(r[0], best_shims):\n",
    "                best_shims = r[0].tolist()\n",
    "                self.saveshims({key: best_shims[i] for i, key in enumerate(self.shim_order)})\n",
    "            progress_handler(i, self.max_iterations)\n",
    "            i += 1\n",
    "        \n",
    "        \n",
    "    \n",
    "    async def evalfunc(self, try_shims, dummy=False):\n",
    "        for i, shim_name in enumerate(self.shim_order):\n",
    "            self.seq.setpar(shim_name, try_shims[i])\n",
    "        \n",
    "        self.y_latest = await self.seq.run()\n",
    "        \n",
    "        # return early if it's a dummy run\n",
    "        if dummy:\n",
    "            return 0\n",
    "        \n",
    "        sumsq = np.sum(gaussian_apodize(np.abs(self.y_latest), 2) ** 2)\n",
    "        self.sumsqs.append(sumsq)\n",
    "        for i, shim_name in enumerate(self.shim_order):\n",
    "            self.shim_vals[shim_name].append(100*try_shims[i])\n",
    "        \n",
    "        return -sumsq\n",
    "\n",
    "exp6 = AutoshimExperiment(state_id='exp6')\n",
    "exp6()"
   ]
  },
  {
   "cell_type": "markdown",
   "id": "152bd432-cdd7-4028-8138-a23cdd62f79d",
   "metadata": {},
   "source": [
    "**Autoshim** iterates through various combinations of currents through the shims, and uses an optimisation algorithm to maximise the total integrated signal (area under the FID magnitude curve). The FID signal should lengthen as the \"Shim Values\" (proportional to the currents through the coils) converge to the optimal values."
   ]
  },
  {
   "cell_type": "markdown",
   "id": "ab2974f6-1e45-42a0-8675-c21fb2056f0e",
   "metadata": {
    "tags": []
   },
   "source": [
    "> ---\n",
    "> #### **Task 5.2: FID Check with Shim**\n",
    "> 1. Enter the correct parameters and Run the **Pulse Collect** experiment below. Check how the amplitude and decay of the signal has changed compared to without shims in **Task 4.2**. With a good shim there should still be significant signal at 4 ms.\n",
    "> 2. Save an image of the signal plot.\n",
    "> 3. Measure the decay time constant in the same way as in **Task 4.2**: by finding the time when the magnitude has decayed to 37% of its initial value. This value is $T_2^*$.\n",
    "> 4. Compare the $T_2^*$ measured in **Task 4.2** before shimming to the $T_2^*$ measured here after shimming. By what factor has it improved?\n",
    "> ---"
   ]
  },
  {
   "cell_type": "code",
   "execution_count": null,
   "id": "db0a7b27-6ed2-4e2b-9243-3006f0719ebf",
   "metadata": {
    "jupyter": {
     "source_hidden": true
    },
    "tags": []
   },
   "outputs": [],
   "source": [
    "exp7 = PulseCollectExperiment(state_id='exp7')\n",
    "exp7.fixed_par['t_dw'] = 5e-6\n",
    "exp7()"
   ]
  },
  {
   "cell_type": "markdown",
   "id": "12bc84fd-5519-4c49-8ea0-c75603323d10",
   "metadata": {
    "tags": []
   },
   "source": [
    "## 6. Spin Echo \n",
    "\n",
    "Shimming the field will improve the duration of the NMR signal, but the signal can also be brought back after dephasing due to inhomogeneity using the *spin echo* technique.\n",
    "\n",
    "<figure style=\"float: right;\">\n",
    "<img src=\"Images/SpinEchoPulse.png\" width=\"400\">\n",
    "<center><figcaption style=\"width: 400px\">Figure 6.1: Spin Echo Pulse Sequence</figcaption></center>\n",
    "</figure>\n",
    "\n",
    "A spin echo can be formed by applying a $90^\\circ$ flip angle RF pulse and a $180^\\circ$ flip angle pulse in succession as shown in Figure 6.1 on the right.\n",
    "\n",
    "Imagine two small groups of nuclei at different locations in the magnetic field which experience slightly different field strengths and therefore precession frequencies. We will call these *isochromats*, the *iso* prefix means the nuclei within an *isochromat* all have the same precession frequency. If one isochromat with magnetic moment $M_1$ has a slightly higher precession frequency and the other, $M_2$, slightly lower, then they will begin to dephase after the initial pulse as shown in Fig. 10 (a) below.\n",
    "\n",
    "When the $180^\\circ$ flip angle pulse is applied with the $\\vec B_1$ direction along the $y'$ axis, the isochromat magnetic moments $\\vec M_1$ and $\\vec M_2$ will individually be rotated by $180^\\circ$ around the $y'$ axis, as shown in Figure 6.2 (b). After the $180^\\circ$ pulse the $\\vec M_1$ isochromat will continue to precess faster and the $\\vec M_1$ isochromat slower, but they have been flipped and are now coming back into phase as shown in Figure 6.2 (c).\n",
    "\n",
    "<center><img src=\"Images/SpinEchoPhase.png\" width=\"1300\"></center>\n",
    "<center><figcaption style=\"width: 300px;\">Figure 6.2: Effect of 180 degree pulse on phase </figcaption></center>\n",
    "<br/>\n",
    "\n",
    "All of the isochromats in a sample will come back into perfect phase simultaneously at a single point in time called $T_E$, the echo time, which is where the echo signal is at maximum (see Figure 6.1). The spin echo sequence can only refocus the dephasing caused by magnet inhomogeneity ($T_2^*$); the signal will still have decayed due to random dephasing in the sample ($T_2$), so longer echo times ($T_E$) will result in less echo signal."
   ]
  },
  {
   "cell_type": "markdown",
   "id": "458a2c54-2a1c-4751-bde0-955cc412301c",
   "metadata": {},
   "source": [
    "> ---\n",
    "> #### **Task 6.1: Spin Echo**\n",
    "> 1. What should the amplitude of the second RF pulse in Figure 6.2 be to achieve a $180^\\circ$ flip angle?\n",
    "> 2. Enter this value into the \"Second Pulse Amplitude\" box below, set the frequency and first pulse amplitude parameters as well, and run the experiment.\n",
    "> 3. If the second pulse amplitude was set correctly, changing it by 10% either up or down should decrease the height of the echo. Is this the case? (Try zooming in on the echo to see more easily how it changes)\n",
    "> 4. Measure the maximum magnitude of the FID at the beginning of the signal plot and record it.\n",
    "> 5. Increase the echo time until the maximum magnitude of the echo is roughly 37% ($1/e$) of the FID initial magnitude.\n",
    "> 6. This echo time approximates the $T_2$ of the sample. Record this $T_2$ value and compare it to the $T_2^*$ value after shimming measured in **Task 5.2**. Has shimming completely removed inhomogeneities from the magnetic field?\n",
    "> 7. Save an image of the signal plot.\n",
    "> ---"
   ]
  },
  {
   "cell_type": "code",
   "execution_count": null,
   "id": "9dacd08a-d411-404b-9121-b8d17f32dc4b",
   "metadata": {
    "jupyter": {
     "source_hidden": true
    },
    "tags": []
   },
   "outputs": [],
   "source": [
    "class SpinEchoExperiment(BaseExperiment):\n",
    "    \n",
    "    def setup(self):\n",
    "        self.workspace = WORKSPACE\n",
    "        self.seq = Sequence('programs/full_acq_SE.py')\n",
    "        self.plots = {\n",
    "            'signal': SignalPlot(show_magnitude=True)\n",
    "        }\n",
    "        \n",
    "        self.inputs = auto_inputs(self.seq, {\n",
    "            'f': 14.0*Unit('MHz'),\n",
    "            'a_90': 10*Unit('%'),\n",
    "            'a_180': 0*Unit('%'),\n",
    "            't_echo': 50*Unit('ms')\n",
    "        })\n",
    "        \n",
    "        self.inputs['f'].name = 'Frequency (MHz)'\n",
    "        self.inputs['t_echo'].name = 'Echo Time (ms)'\n",
    "        self.inputs['a_90'].name = 'First Pulse Amplitude (%)'\n",
    "        self.inputs['a_180'].name = 'Second Pulse Amplitude (%)'\n",
    "    \n",
    "    def update_par(self):\n",
    "        self.seq.setpar(\n",
    "            t_90=32e-6,\n",
    "            t_180=32e-6,\n",
    "            n_scans=1,\n",
    "            n_samples=10000,\n",
    "            t_dw=20e-6, # using a long dwell time for narrow bandwith to more easily see the spectrum shape\n",
    "            t_end=0.2\n",
    "        )\n",
    "    \n",
    "    async def update_plots(self, *args, **kwargs):\n",
    "        await self.seq.fetch_data()\n",
    "        self.plots['signal'].update(seqdata=self.seq.data, t_dw=self.seq.par.t_dw)\n",
    "            \n",
    "\n",
    "exp8 = SpinEchoExperiment(state_id='exp8')\n",
    "exp8()"
   ]
  },
  {
   "cell_type": "code",
   "execution_count": null,
   "id": "128eec88-163a-4ba7-a2e2-d66da4b22780",
   "metadata": {
    "tags": []
   },
   "outputs": [],
   "source": []
  }
 ],
 "metadata": {
  "kernelspec": {
   "display_name": "Python 3 (ipykernel)",
   "language": "python",
   "name": "python3"
  },
  "language_info": {
   "codemirror_mode": {
    "name": "ipython",
    "version": 3
   },
   "file_extension": ".py",
   "mimetype": "text/x-python",
   "name": "python",
   "nbconvert_exporter": "python",
   "pygments_lexer": "ipython3",
   "version": "3.10.12"
  },
  "widgets": {
   "application/vnd.jupyter.widget-state+json": {
    "state": {},
    "version_major": 2,
    "version_minor": 0
   }
  }
 },
 "nbformat": 4,
 "nbformat_minor": 5
}
